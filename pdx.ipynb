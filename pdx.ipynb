{
 "cells": [
  {
   "cell_type": "code",
   "execution_count": 58,
   "metadata": {},
   "outputs": [],
   "source": [
    "#import standard libraries\n",
    "import numpy as np\n",
    "import pandas as pd\n",
    "import matplotlib.pyplot as plt\n",
    "import seaborn as sns\n",
    "\n",
    "#import html/scraping libraries\n",
    "import requests\n",
    "from bs4 import BeautifulSoup\n",
    "import json\n",
    "from pandas.io.json import json_normalize\n",
    "\n",
    "#import mapping libraries\n",
    "import geopy\n",
    "import folium\n",
    "from geopy.geocoders import Nominatim\n",
    "from IPython.display import Image\n",
    "\n",
    "#import colors\n",
    "import matplotlib.cm as cm\n",
    "import matplotlib.colors as colors"
   ]
  },
  {
   "cell_type": "code",
   "execution_count": 2,
   "metadata": {},
   "outputs": [],
   "source": [
    "#download portland geojson\n",
    "!wget -q -O 'pdx_data.geojson' https://opendata.arcgis.com/datasets/9f50a605cf4945259b983fa35c993fe9_125.geojson"
   ]
  },
  {
   "cell_type": "code",
   "execution_count": 24,
   "metadata": {},
   "outputs": [],
   "source": [
    "with open('pdx_data.geojson') as f:\n",
    "    pdx_geo = json.load(f)"
   ]
  },
  {
   "cell_type": "markdown",
   "metadata": {},
   "source": [
    "We can look at what kind of data we have:"
   ]
  },
  {
   "cell_type": "code",
   "execution_count": 163,
   "metadata": {},
   "outputs": [
    {
     "data": {
      "text/plain": [
       "{'type': 'Feature',\n",
       " 'properties': {'OBJECTID': 5,\n",
       "  'NAME': 'CULLY ASSOCIATION OF NEIGHBORS',\n",
       "  'COMMPLAN': ' ',\n",
       "  'SHARED': ' ',\n",
       "  'COALIT': 'CNN',\n",
       "  'HORZ_VERT': 'HORZ',\n",
       "  'MAPLABEL': 'Cully Association of Neighbors',\n",
       "  'ID': 23,\n",
       "  'Shape_Length': 18179.392090202025,\n",
       "  'Shape_Area': 16580624.669252962},\n",
       " 'geometry': {'type': 'Polygon',\n",
       "  'coordinates': [[[-122.6147122245439, 45.54829038307215],\n",
       "    [-122.60785446051207, 45.548264575609245],\n",
       "    [-122.59938743920893, 45.54822488960527],\n",
       "    [-122.59938092282987, 45.54857652975009],\n",
       "    [-122.59937739514577, 45.54885060900733],\n",
       "    [-122.59937020323359, 45.54928954232259],\n",
       "    [-122.59936472979857, 45.54956382821686],\n",
       "    [-122.5993575315982, 45.550002589256856],\n",
       "    [-122.59935401020228, 45.550276840846834],\n",
       "    [-122.59934741746642, 45.55062642430259],\n",
       "    [-122.59934328880935, 45.550989851980546],\n",
       "    [-122.59933472966135, 45.55149739922728],\n",
       "    [-122.59933165023655, 45.551730830835176],\n",
       "    [-122.5993316547281, 45.55246988194597],\n",
       "    [-122.59930760503133, 45.55377266310885],\n",
       "    [-122.59930723402711, 45.55386818024229],\n",
       "    [-122.59930494871303, 45.553964762167546],\n",
       "    [-122.59927047406737, 45.555460811597044],\n",
       "    [-122.59916502083618, 45.555460508410825],\n",
       "    [-122.59831356347391, 45.55545753127321],\n",
       "    [-122.57863012363435, 45.55543097668348],\n",
       "    [-122.57852799866129, 45.562664830653084],\n",
       "    [-122.57765959817444, 45.56268189620978],\n",
       "    [-122.57770276402049, 45.56887364669454],\n",
       "    [-122.57770292122564, 45.56887792990655],\n",
       "    [-122.57770351591036, 45.569960762706955],\n",
       "    [-122.57767204792596, 45.56995481499906],\n",
       "    [-122.57769049932187, 45.569978658650655],\n",
       "    [-122.57834428150755, 45.57012459986506],\n",
       "    [-122.57967978617921, 45.57048575392558],\n",
       "    [-122.58106732217044, 45.570933744027506],\n",
       "    [-122.58214916865698, 45.57119434760824],\n",
       "    [-122.5831549350255, 45.57140402037086],\n",
       "    [-122.58421400023646, 45.571735148782636],\n",
       "    [-122.58484760805749, 45.571968869218956],\n",
       "    [-122.58512859479016, 45.57217399956722],\n",
       "    [-122.5853341266322, 45.5723455176919],\n",
       "    [-122.58647771612488, 45.5729028086954],\n",
       "    [-122.5868094639593, 45.573107013783236],\n",
       "    [-122.58696298334642, 45.57319185026721],\n",
       "    [-122.58741513417502, 45.5733239082864],\n",
       "    [-122.58799608634735, 45.57350592599697],\n",
       "    [-122.58852952123443, 45.573776596870445],\n",
       "    [-122.58891074468143, 45.57394491763212],\n",
       "    [-122.5893140999221, 45.574077684434215],\n",
       "    [-122.5897181217127, 45.57417545590992],\n",
       "    [-122.59034338059149, 45.574234226113845],\n",
       "    [-122.59141823818514, 45.57430230761739],\n",
       "    [-122.59181772797514, 45.57433002286699],\n",
       "    [-122.59206757999839, 45.57432547785875],\n",
       "    [-122.59299021537217, 45.57429120164344],\n",
       "    [-122.59423169158642, 45.574163490330896],\n",
       "    [-122.59525128482376, 45.574057297827295],\n",
       "    [-122.59562281634719, 45.574015548679284],\n",
       "    [-122.5959468413651, 45.57400964415978],\n",
       "    [-122.59662284966758, 45.5740672833104],\n",
       "    [-122.59777707521319, 45.57422148145549],\n",
       "    [-122.59880960958053, 45.57451798202682],\n",
       "    [-122.5995200781556, 45.57482035214113],\n",
       "    [-122.60040428090659, 45.57511954646063],\n",
       "    [-122.60123385081697, 45.575314619048406],\n",
       "    [-122.60188451045872, 45.575372862388335],\n",
       "    [-122.60281234617972, 45.57547850535442],\n",
       "    [-122.60426851615358, 45.575767211100654],\n",
       "    [-122.60555422092082, 45.57609400094416],\n",
       "    [-122.6060305094811, 45.57619039249923],\n",
       "    [-122.60670525565057, 45.576213016176524],\n",
       "    [-122.60725898078495, 45.576343137355785],\n",
       "    [-122.60774307839999, 45.576596963363905],\n",
       "    [-122.60837879636362, 45.57693580202717],\n",
       "    [-122.6088570486411, 45.577032147494194],\n",
       "    [-122.60925656717721, 45.5770598022917],\n",
       "    [-122.61000290188831, 45.57701113255533],\n",
       "    [-122.6107466278918, 45.57689237366923],\n",
       "    [-122.6115716918527, 45.576912209695955],\n",
       "    [-122.61287567374272, 45.577098488929856],\n",
       "    [-122.61443931366561, 45.577542677558874],\n",
       "    [-122.6148687892198, 45.577692536464106],\n",
       "    [-122.61555335397533, 45.57797779714237],\n",
       "    [-122.61585985825197, 45.57818238492699],\n",
       "    [-122.61627179689515, 45.57854261634129],\n",
       "    [-122.61645075297785, 45.578626946637854],\n",
       "    [-122.61705593720498, 45.57882603547767],\n",
       "    [-122.61760905238329, 45.57893845683393],\n",
       "    [-122.61805934998743, 45.57896531783396],\n",
       "    [-122.618803737151, 45.57886398462691],\n",
       "    [-122.61996714976705, 45.57863232125798],\n",
       "    [-122.62043142964859, 45.57845846322831],\n",
       "    [-122.62042541722441, 45.577357027941645],\n",
       "    [-122.62039271585309, 45.57172695192018],\n",
       "    [-122.62052763921551, 45.57178327914999],\n",
       "    [-122.62052295719626, 45.57165801836645],\n",
       "    [-122.62050916266675, 45.57003492977927],\n",
       "    [-122.62045490172865, 45.56644080686348],\n",
       "    [-122.62043829547228, 45.5628089474624],\n",
       "    [-122.62041717787662, 45.55827246865937],\n",
       "    [-122.62041545490791, 45.55556131710243],\n",
       "    [-122.61489631898999, 45.555535738165794],\n",
       "    [-122.61500667342938, 45.55011425742838],\n",
       "    [-122.6150528944457, 45.54978280466621],\n",
       "    [-122.61506759807027, 45.54829139025689],\n",
       "    [-122.6147122245439, 45.54829038307215]]]}}"
      ]
     },
     "execution_count": 163,
     "metadata": {},
     "output_type": "execute_result"
    }
   ],
   "source": [
    "pdx_geo['features'][4]"
   ]
  },
  {
   "cell_type": "markdown",
   "metadata": {},
   "source": [
    "We need additional data for this project, I have downloaded data from portlandmap.com also, I am scraping data from 2019 from a site that seems to have the most up to date data for population statistics by neighborhood"
   ]
  },
  {
   "cell_type": "code",
   "execution_count": 34,
   "metadata": {},
   "outputs": [
    {
     "name": "stdout",
     "output_type": "stream",
     "text": [
      "Date Range : 1994 to 2019\n",
      "Size of the data: (30106, 28)\n"
     ]
    }
   ],
   "source": [
    "permits_df = pd.read_csv('Residential_Building_Permits.csv')\n",
    "#lets look at the time frame of the permits\n",
    "print('Date Range : {} to {}'.format(min(permits_df['YEAR_']),max(permits_df['YEAR_'])))\n",
    "print('Size of the data: {}'.format(permits_df.shape))"
   ]
  },
  {
   "cell_type": "markdown",
   "metadata": {},
   "source": [
    "Lets narrow the data down to 2016-present and see what kind of permits we are dealing with"
   ]
  },
  {
   "cell_type": "code",
   "execution_count": 41,
   "metadata": {},
   "outputs": [
    {
     "name": "stdout",
     "output_type": "stream",
     "text": [
      "(5527, 28)\n"
     ]
    },
    {
     "data": {
      "text/plain": [
       "array(['New Construction', 'Alteration', 'Move', 'Addition',\n",
       "       'Replacement', 'First'], dtype=object)"
      ]
     },
     "execution_count": 41,
     "metadata": {},
     "output_type": "execute_result"
    }
   ],
   "source": [
    "permits_df = permits_df[permits_df['YEAR_'] >= 2016]\n",
    "print(permits_df.shape)\n",
    "permits_df.NEWCLASS.unique()"
   ]
  },
  {
   "cell_type": "markdown",
   "metadata": {},
   "source": [
    "With the objective of estimating new residents, we will only keep the 'Addition' and \"New Construction\" values."
   ]
  },
  {
   "cell_type": "code",
   "execution_count": 50,
   "metadata": {},
   "outputs": [
    {
     "data": {
      "text/plain": [
       "(4689, 28)"
      ]
     },
     "execution_count": 50,
     "metadata": {},
     "output_type": "execute_result"
    }
   ],
   "source": [
    "permits_df = permits_df[permits_df['NEWCLASS'].isin(['New Construction','Addition'])]\n",
    "permits_df.shape\n"
   ]
  },
  {
   "cell_type": "code",
   "execution_count": 51,
   "metadata": {},
   "outputs": [
    {
     "data": {
      "text/html": [
       "<div>\n",
       "<style scoped>\n",
       "    .dataframe tbody tr th:only-of-type {\n",
       "        vertical-align: middle;\n",
       "    }\n",
       "\n",
       "    .dataframe tbody tr th {\n",
       "        vertical-align: top;\n",
       "    }\n",
       "\n",
       "    .dataframe thead th {\n",
       "        text-align: right;\n",
       "    }\n",
       "</style>\n",
       "<table border=\"1\" class=\"dataframe\">\n",
       "  <thead>\n",
       "    <tr style=\"text-align: right;\">\n",
       "      <th></th>\n",
       "      <th>X</th>\n",
       "      <th>Y</th>\n",
       "      <th>OBJECTID</th>\n",
       "      <th>INDATE</th>\n",
       "      <th>ISSUEDATE</th>\n",
       "      <th>STATUS</th>\n",
       "      <th>YEAR_</th>\n",
       "      <th>NEWCLASS</th>\n",
       "      <th>NEWTYPE</th>\n",
       "      <th>NBRHOOD</th>\n",
       "      <th>...</th>\n",
       "      <th>NEW_UNITS</th>\n",
       "      <th>FOLDER_DES</th>\n",
       "      <th>VALUATION</th>\n",
       "      <th>CONST</th>\n",
       "      <th>PROPLOT</th>\n",
       "      <th>PROPGISID1</th>\n",
       "      <th>PROPERTYRO</th>\n",
       "      <th>FOLDERRSN</th>\n",
       "      <th>X_COORD</th>\n",
       "      <th>Y_COORD</th>\n",
       "    </tr>\n",
       "  </thead>\n",
       "  <tbody>\n",
       "    <tr>\n",
       "      <th>23336</th>\n",
       "      <td>-122.771014</td>\n",
       "      <td>45.720797</td>\n",
       "      <td>23337</td>\n",
       "      <td>2013-03-06T00:00:00.000Z</td>\n",
       "      <td>2016-07-15T15:39:49.000Z</td>\n",
       "      <td>Admin Hold</td>\n",
       "      <td>2016</td>\n",
       "      <td>New Construction</td>\n",
       "      <td>Single Family Dwelling</td>\n",
       "      <td>NaN</td>\n",
       "      <td>...</td>\n",
       "      <td>1</td>\n",
       "      <td>NEW SINGLE FAMILY RESIDENCE/2 STORY/2 CAR GARA...</td>\n",
       "      <td>912966</td>\n",
       "      <td>V-B</td>\n",
       "      <td>R502908</td>\n",
       "      <td>3N1W23    700</td>\n",
       "      <td>3N1W23    00700</td>\n",
       "      <td>3283314</td>\n",
       "      <td>7.622136e+06</td>\n",
       "      <td>757041.415376</td>\n",
       "    </tr>\n",
       "    <tr>\n",
       "      <th>23338</th>\n",
       "      <td>-122.588079</td>\n",
       "      <td>45.562411</td>\n",
       "      <td>23339</td>\n",
       "      <td>2013-04-05T00:00:00.000Z</td>\n",
       "      <td>2017-06-16T09:49:52.000Z</td>\n",
       "      <td>Issued</td>\n",
       "      <td>2017</td>\n",
       "      <td>New Construction</td>\n",
       "      <td>Apartments/Condos</td>\n",
       "      <td>CULLY ASSOCIATION OF NEIGHBORS</td>\n",
       "      <td>...</td>\n",
       "      <td>12</td>\n",
       "      <td>NEW 12 UNIT THREE STORY APARTMENT BUILDING AND...</td>\n",
       "      <td>1112998</td>\n",
       "      <td>V-B</td>\n",
       "      <td>R209993</td>\n",
       "      <td>1N2E20AB  4900</td>\n",
       "      <td>1N2E20AB  04900</td>\n",
       "      <td>3296117</td>\n",
       "      <td>7.667349e+06</td>\n",
       "      <td>698049.685919</td>\n",
       "    </tr>\n",
       "    <tr>\n",
       "      <th>23339</th>\n",
       "      <td>-122.588340</td>\n",
       "      <td>45.562319</td>\n",
       "      <td>23340</td>\n",
       "      <td>2013-04-05T00:00:00.000Z</td>\n",
       "      <td>2017-06-16T09:50:06.000Z</td>\n",
       "      <td>Issued</td>\n",
       "      <td>2017</td>\n",
       "      <td>New Construction</td>\n",
       "      <td>Apartments/Condos</td>\n",
       "      <td>CULLY ASSOCIATION OF NEIGHBORS</td>\n",
       "      <td>...</td>\n",
       "      <td>12</td>\n",
       "      <td>NEW 12 UNIT THREE STORY APARTMENT BUILDING, me...</td>\n",
       "      <td>1112998</td>\n",
       "      <td>V-B</td>\n",
       "      <td>R209993</td>\n",
       "      <td>1N2E20AB  4900</td>\n",
       "      <td>1N2E20AB  04900</td>\n",
       "      <td>3296123</td>\n",
       "      <td>7.667282e+06</td>\n",
       "      <td>698017.793594</td>\n",
       "    </tr>\n",
       "    <tr>\n",
       "      <th>23344</th>\n",
       "      <td>-122.568927</td>\n",
       "      <td>45.527362</td>\n",
       "      <td>23345</td>\n",
       "      <td>2013-06-28T00:00:00.000Z</td>\n",
       "      <td>2017-03-17T08:22:36.000Z</td>\n",
       "      <td>Final</td>\n",
       "      <td>2017</td>\n",
       "      <td>New Construction</td>\n",
       "      <td>Townhouse</td>\n",
       "      <td>MONTAVILLA</td>\n",
       "      <td>...</td>\n",
       "      <td>1</td>\n",
       "      <td>UNIT 1 OF 5 UNIT TOWHOUSE - ALL ON SAME TAX LO...</td>\n",
       "      <td>200112</td>\n",
       "      <td>V-B</td>\n",
       "      <td>R498064</td>\n",
       "      <td>1N2E33BD  2901</td>\n",
       "      <td>1N2E33BD  02901</td>\n",
       "      <td>3333750</td>\n",
       "      <td>7.671926e+06</td>\n",
       "      <td>685148.493545</td>\n",
       "    </tr>\n",
       "    <tr>\n",
       "      <th>23345</th>\n",
       "      <td>-122.568927</td>\n",
       "      <td>45.527281</td>\n",
       "      <td>23346</td>\n",
       "      <td>2013-06-28T00:00:00.000Z</td>\n",
       "      <td>2017-03-14T08:32:13.000Z</td>\n",
       "      <td>Final</td>\n",
       "      <td>2017</td>\n",
       "      <td>New Construction</td>\n",
       "      <td>Townhouse</td>\n",
       "      <td>MONTAVILLA</td>\n",
       "      <td>...</td>\n",
       "      <td>1</td>\n",
       "      <td>UNIT 2 OF 5 UNIT TOWHOUSE - ALL ON SAME TAX LO...</td>\n",
       "      <td>210687</td>\n",
       "      <td>V-B</td>\n",
       "      <td>R498064</td>\n",
       "      <td>1N2E33BD  2901</td>\n",
       "      <td>1N2E33BD  02901</td>\n",
       "      <td>3333757</td>\n",
       "      <td>7.671925e+06</td>\n",
       "      <td>685118.964405</td>\n",
       "    </tr>\n",
       "  </tbody>\n",
       "</table>\n",
       "<p>5 rows × 28 columns</p>\n",
       "</div>"
      ],
      "text/plain": [
       "                X          Y  OBJECTID                    INDATE  \\\n",
       "23336 -122.771014  45.720797     23337  2013-03-06T00:00:00.000Z   \n",
       "23338 -122.588079  45.562411     23339  2013-04-05T00:00:00.000Z   \n",
       "23339 -122.588340  45.562319     23340  2013-04-05T00:00:00.000Z   \n",
       "23344 -122.568927  45.527362     23345  2013-06-28T00:00:00.000Z   \n",
       "23345 -122.568927  45.527281     23346  2013-06-28T00:00:00.000Z   \n",
       "\n",
       "                      ISSUEDATE      STATUS  YEAR_          NEWCLASS  \\\n",
       "23336  2016-07-15T15:39:49.000Z  Admin Hold   2016  New Construction   \n",
       "23338  2017-06-16T09:49:52.000Z      Issued   2017  New Construction   \n",
       "23339  2017-06-16T09:50:06.000Z      Issued   2017  New Construction   \n",
       "23344  2017-03-17T08:22:36.000Z       Final   2017  New Construction   \n",
       "23345  2017-03-14T08:32:13.000Z       Final   2017  New Construction   \n",
       "\n",
       "                      NEWTYPE                         NBRHOOD  ... NEW_UNITS  \\\n",
       "23336  Single Family Dwelling                             NaN  ...         1   \n",
       "23338       Apartments/Condos  CULLY ASSOCIATION OF NEIGHBORS  ...        12   \n",
       "23339       Apartments/Condos  CULLY ASSOCIATION OF NEIGHBORS  ...        12   \n",
       "23344               Townhouse                      MONTAVILLA  ...         1   \n",
       "23345               Townhouse                      MONTAVILLA  ...         1   \n",
       "\n",
       "                                              FOLDER_DES VALUATION CONST  \\\n",
       "23336  NEW SINGLE FAMILY RESIDENCE/2 STORY/2 CAR GARA...    912966   V-B   \n",
       "23338  NEW 12 UNIT THREE STORY APARTMENT BUILDING AND...   1112998   V-B   \n",
       "23339  NEW 12 UNIT THREE STORY APARTMENT BUILDING, me...   1112998   V-B   \n",
       "23344  UNIT 1 OF 5 UNIT TOWHOUSE - ALL ON SAME TAX LO...    200112   V-B   \n",
       "23345  UNIT 2 OF 5 UNIT TOWHOUSE - ALL ON SAME TAX LO...    210687   V-B   \n",
       "\n",
       "       PROPLOT      PROPGISID1       PROPERTYRO FOLDERRSN       X_COORD  \\\n",
       "23336  R502908   3N1W23    700  3N1W23    00700   3283314  7.622136e+06   \n",
       "23338  R209993  1N2E20AB  4900  1N2E20AB  04900   3296117  7.667349e+06   \n",
       "23339  R209993  1N2E20AB  4900  1N2E20AB  04900   3296123  7.667282e+06   \n",
       "23344  R498064  1N2E33BD  2901  1N2E33BD  02901   3333750  7.671926e+06   \n",
       "23345  R498064  1N2E33BD  2901  1N2E33BD  02901   3333757  7.671925e+06   \n",
       "\n",
       "             Y_COORD  \n",
       "23336  757041.415376  \n",
       "23338  698049.685919  \n",
       "23339  698017.793594  \n",
       "23344  685148.493545  \n",
       "23345  685118.964405  \n",
       "\n",
       "[5 rows x 28 columns]"
      ]
     },
     "execution_count": 51,
     "metadata": {},
     "output_type": "execute_result"
    }
   ],
   "source": [
    "permits_df.head()"
   ]
  },
  {
   "cell_type": "markdown",
   "metadata": {},
   "source": [
    "Now we need to keep only entries that have a neighborhood assignment"
   ]
  },
  {
   "cell_type": "code",
   "execution_count": 57,
   "metadata": {},
   "outputs": [
    {
     "data": {
      "text/plain": [
       "((4663, 28), 105)"
      ]
     },
     "execution_count": 57,
     "metadata": {},
     "output_type": "execute_result"
    }
   ],
   "source": [
    "permits_df = permits_df[permits_df['NBRHOOD'].notnull()]\n",
    "permits_df.shape,len(permits_df.NBRHOOD.unique())"
   ]
  },
  {
   "cell_type": "markdown",
   "metadata": {},
   "source": [
    "It looks like we have 105 unique neighborhoods, with 4663 building permits in identified neighborhoods."
   ]
  },
  {
   "cell_type": "markdown",
   "metadata": {},
   "source": [
    "Lets continue to get some more data.\n"
   ]
  },
  {
   "cell_type": "code",
   "execution_count": 59,
   "metadata": {},
   "outputs": [],
   "source": [
    "pdxdata_url = 'https://www.pdxmonthly.com/home-and-real-estate/2019/03/portland-neighborhoods-by-the-numbers-2019-the-city'\n",
    "pdx_soup = BeautifulSoup(requests.get(pdxdata_url).text,'lxml')"
   ]
  },
  {
   "cell_type": "code",
   "execution_count": 63,
   "metadata": {},
   "outputs": [],
   "source": [
    "#get a list of columns\n",
    "col_names = [i.text for i in pdx_soup.find_all('th')]\n",
    "#extraxt each datapoint for each row in the table\n",
    "by_hood = [[entry.text for entry in row.find_all('td')]for row in pdx_soup.find_all('tr')[1:]]"
   ]
  },
  {
   "cell_type": "code",
   "execution_count": 85,
   "metadata": {},
   "outputs": [],
   "source": [
    "pdx_hood_df = pd.DataFrame(columns=col_names, data=by_hood)"
   ]
  },
  {
   "cell_type": "code",
   "execution_count": 143,
   "metadata": {},
   "outputs": [
    {
     "data": {
      "text/html": [
       "<div>\n",
       "<style scoped>\n",
       "    .dataframe tbody tr th:only-of-type {\n",
       "        vertical-align: middle;\n",
       "    }\n",
       "\n",
       "    .dataframe tbody tr th {\n",
       "        vertical-align: top;\n",
       "    }\n",
       "\n",
       "    .dataframe thead th {\n",
       "        text-align: right;\n",
       "    }\n",
       "</style>\n",
       "<table border=\"1\" class=\"dataframe\">\n",
       "  <thead>\n",
       "    <tr style=\"text-align: right;\">\n",
       "      <th></th>\n",
       "      <th>Neighborhood</th>\n",
       "      <th>Average home sale price ($)</th>\n",
       "      <th>Median home sale price ($)</th>\n",
       "      <th>Average cost per square foot ($)</th>\n",
       "      <th>Days on market (avg.)</th>\n",
       "      <th>Homes sold in 2018 (#)</th>\n",
       "      <th>Condo sales (%)</th>\n",
       "      <th>1-year median price change (2017–2018) (%)</th>\n",
       "      <th>5-year median price change (2014–2018) (%)</th>\n",
       "      <th>Distressed property sales (%)</th>\n",
       "      <th>...</th>\n",
       "      <th>Commute by public transit (%)</th>\n",
       "      <th>Commute by bike (%)</th>\n",
       "      <th>Commute by walking (%)</th>\n",
       "      <th>Commute by biking and walking (%)</th>\n",
       "      <th>Number of Max/streetcar/tram lines</th>\n",
       "      <th>Number of TriMet bus lines</th>\n",
       "      <th>Number of transit lines (bus/MAX/streetcar/tram)</th>\n",
       "      <th>Miles of bike routes (lanes, boulevards, multiuse paths)</th>\n",
       "      <th>Miles of bike routes (all) per square mile</th>\n",
       "      <th>Walk score</th>\n",
       "    </tr>\n",
       "  </thead>\n",
       "  <tbody>\n",
       "    <tr>\n",
       "      <th>95</th>\n",
       "      <td>PORTLAND TOTAL**</td>\n",
       "      <td>480,268</td>\n",
       "      <td>420,000</td>\n",
       "      <td>255</td>\n",
       "      <td>37</td>\n",
       "      <td>9,427</td>\n",
       "      <td>17%</td>\n",
       "      <td>5%</td>\n",
       "      <td>35%</td>\n",
       "      <td>1%</td>\n",
       "      <td>...</td>\n",
       "      <td>12.3</td>\n",
       "      <td>6.5</td>\n",
       "      <td>5.7</td>\n",
       "      <td>12.2</td>\n",
       "      <td>8</td>\n",
       "      <td>57</td>\n",
       "      <td>79</td>\n",
       "      <td>469</td>\n",
       "      <td>3.2</td>\n",
       "      <td>65</td>\n",
       "    </tr>\n",
       "  </tbody>\n",
       "</table>\n",
       "<p>1 rows × 57 columns</p>\n",
       "</div>"
      ],
      "text/plain": [
       "        Neighborhood Average home sale price ($) Median home sale price ($)  \\\n",
       "95  PORTLAND TOTAL**                     480,268                    420,000   \n",
       "\n",
       "   Average cost per square foot ($) Days on market (avg.)  \\\n",
       "95                              255                    37   \n",
       "\n",
       "   Homes sold in 2018 (#) Condo sales (%)  \\\n",
       "95                  9,427             17%   \n",
       "\n",
       "   1-year median price change (2017–2018) (%)  \\\n",
       "95                                         5%   \n",
       "\n",
       "   5-year median price change (2014–2018) (%) Distressed property sales (%)  \\\n",
       "95                                        35%                            1%   \n",
       "\n",
       "    ... Commute by public transit (%) Commute by bike (%)  \\\n",
       "95  ...                          12.3                 6.5   \n",
       "\n",
       "   Commute by walking (%) Commute by biking and walking (%)  \\\n",
       "95                    5.7                              12.2   \n",
       "\n",
       "   Number of Max/streetcar/tram lines Number of TriMet bus lines  \\\n",
       "95                                  8                         57   \n",
       "\n",
       "   Number of transit lines (bus/MAX/streetcar/tram)  \\\n",
       "95                                               79   \n",
       "\n",
       "   Miles of bike routes (lanes, boulevards, multiuse paths)  \\\n",
       "95                                                469         \n",
       "\n",
       "   Miles of bike routes (all) per square mile Walk score  \n",
       "95                                        3.2         65  \n",
       "\n",
       "[1 rows x 57 columns]"
      ]
     },
     "execution_count": 143,
     "metadata": {},
     "output_type": "execute_result"
    }
   ],
   "source": [
    "pdx_hood_df[pdx_hood_df['Neighborhood'] == 'PORTLAND TOTAL**']"
   ]
  },
  {
   "cell_type": "code",
   "execution_count": 147,
   "metadata": {},
   "outputs": [
    {
     "name": "stdout",
     "output_type": "stream",
     "text": [
      "(95, 57)\n"
     ]
    },
    {
     "data": {
      "text/html": [
       "<div>\n",
       "<style scoped>\n",
       "    .dataframe tbody tr th:only-of-type {\n",
       "        vertical-align: middle;\n",
       "    }\n",
       "\n",
       "    .dataframe tbody tr th {\n",
       "        vertical-align: top;\n",
       "    }\n",
       "\n",
       "    .dataframe thead th {\n",
       "        text-align: right;\n",
       "    }\n",
       "</style>\n",
       "<table border=\"1\" class=\"dataframe\">\n",
       "  <thead>\n",
       "    <tr style=\"text-align: right;\">\n",
       "      <th></th>\n",
       "      <th>Neighborhood</th>\n",
       "      <th>Average home sale price ($)</th>\n",
       "      <th>Median home sale price ($)</th>\n",
       "      <th>Average cost per square foot ($)</th>\n",
       "      <th>Days on market (avg.)</th>\n",
       "      <th>Homes sold in 2018 (#)</th>\n",
       "      <th>Condo sales (%)</th>\n",
       "      <th>1-year median price change (2017–2018) (%)</th>\n",
       "      <th>5-year median price change (2014–2018) (%)</th>\n",
       "      <th>Distressed property sales (%)</th>\n",
       "      <th>...</th>\n",
       "      <th>Commute by public transit (%)</th>\n",
       "      <th>Commute by bike (%)</th>\n",
       "      <th>Commute by walking (%)</th>\n",
       "      <th>Commute by biking and walking (%)</th>\n",
       "      <th>Number of Max/streetcar/tram lines</th>\n",
       "      <th>Number of TriMet bus lines</th>\n",
       "      <th>Number of transit lines (bus/MAX/streetcar/tram)</th>\n",
       "      <th>Miles of bike routes (lanes, boulevards, multiuse paths)</th>\n",
       "      <th>Miles of bike routes (all) per square mile</th>\n",
       "      <th>Walk score</th>\n",
       "    </tr>\n",
       "  </thead>\n",
       "  <tbody>\n",
       "    <tr>\n",
       "      <th>0</th>\n",
       "      <td>ALAMEDA</td>\n",
       "      <td>785,713</td>\n",
       "      <td>738,000</td>\n",
       "      <td>268</td>\n",
       "      <td>31</td>\n",
       "      <td>81</td>\n",
       "      <td>0%</td>\n",
       "      <td>8%</td>\n",
       "      <td>26%</td>\n",
       "      <td>1%</td>\n",
       "      <td>...</td>\n",
       "      <td>8.8</td>\n",
       "      <td>3.9</td>\n",
       "      <td>11</td>\n",
       "      <td>14.9</td>\n",
       "      <td>0</td>\n",
       "      <td>3</td>\n",
       "      <td>3</td>\n",
       "      <td>1</td>\n",
       "      <td>1.2</td>\n",
       "      <td>65</td>\n",
       "    </tr>\n",
       "    <tr>\n",
       "      <th>1</th>\n",
       "      <td>ARBOR LODGE</td>\n",
       "      <td>465,743</td>\n",
       "      <td>459,450</td>\n",
       "      <td>252</td>\n",
       "      <td>28</td>\n",
       "      <td>132</td>\n",
       "      <td>13%</td>\n",
       "      <td>1%</td>\n",
       "      <td>33%</td>\n",
       "      <td>0%</td>\n",
       "      <td>...</td>\n",
       "      <td>14.2</td>\n",
       "      <td>3.6</td>\n",
       "      <td>11.9</td>\n",
       "      <td>15.6</td>\n",
       "      <td>1</td>\n",
       "      <td>4</td>\n",
       "      <td>5</td>\n",
       "      <td>6</td>\n",
       "      <td>7.2</td>\n",
       "      <td>72</td>\n",
       "    </tr>\n",
       "    <tr>\n",
       "      <th>2</th>\n",
       "      <td>ARDENWALD-JOHNSON CREEK</td>\n",
       "      <td>418,640</td>\n",
       "      <td>434,500</td>\n",
       "      <td>185</td>\n",
       "      <td>89</td>\n",
       "      <td>10</td>\n",
       "      <td>0%</td>\n",
       "      <td>-7%</td>\n",
       "      <td>34%</td>\n",
       "      <td>10%</td>\n",
       "      <td>...</td>\n",
       "      <td>9.3</td>\n",
       "      <td>0.4</td>\n",
       "      <td>7.3</td>\n",
       "      <td>7.7</td>\n",
       "      <td>1</td>\n",
       "      <td>5</td>\n",
       "      <td>6</td>\n",
       "      <td>3</td>\n",
       "      <td>7.8</td>\n",
       "      <td>54</td>\n",
       "    </tr>\n",
       "    <tr>\n",
       "      <th>3</th>\n",
       "      <td>ARGAY</td>\n",
       "      <td>391,146</td>\n",
       "      <td>399,750</td>\n",
       "      <td>168</td>\n",
       "      <td>26</td>\n",
       "      <td>79</td>\n",
       "      <td>5%</td>\n",
       "      <td>11%</td>\n",
       "      <td>52%</td>\n",
       "      <td>0%</td>\n",
       "      <td>...</td>\n",
       "      <td>8.6</td>\n",
       "      <td>15.8</td>\n",
       "      <td>0.3</td>\n",
       "      <td>16.1</td>\n",
       "      <td>0</td>\n",
       "      <td>5</td>\n",
       "      <td>5</td>\n",
       "      <td>6</td>\n",
       "      <td>2.9</td>\n",
       "      <td>45</td>\n",
       "    </tr>\n",
       "    <tr>\n",
       "      <th>4</th>\n",
       "      <td>ARLINGTON HEIGHTS</td>\n",
       "      <td>1,012,913</td>\n",
       "      <td>862,500</td>\n",
       "      <td>306</td>\n",
       "      <td>49</td>\n",
       "      <td>20</td>\n",
       "      <td>0%</td>\n",
       "      <td>-6%</td>\n",
       "      <td>9%</td>\n",
       "      <td>0%</td>\n",
       "      <td>...</td>\n",
       "      <td>6</td>\n",
       "      <td>10.6</td>\n",
       "      <td>4.1</td>\n",
       "      <td>14.8</td>\n",
       "      <td>2</td>\n",
       "      <td>4</td>\n",
       "      <td>6</td>\n",
       "      <td>1</td>\n",
       "      <td>1.6</td>\n",
       "      <td>40</td>\n",
       "    </tr>\n",
       "  </tbody>\n",
       "</table>\n",
       "<p>5 rows × 57 columns</p>\n",
       "</div>"
      ],
      "text/plain": [
       "              Neighborhood Average home sale price ($)  \\\n",
       "0                  ALAMEDA                     785,713   \n",
       "1              ARBOR LODGE                     465,743   \n",
       "2  ARDENWALD-JOHNSON CREEK                     418,640   \n",
       "3                    ARGAY                     391,146   \n",
       "4        ARLINGTON HEIGHTS                   1,012,913   \n",
       "\n",
       "  Median home sale price ($) Average cost per square foot ($)  \\\n",
       "0                    738,000                              268   \n",
       "1                    459,450                              252   \n",
       "2                    434,500                              185   \n",
       "3                    399,750                              168   \n",
       "4                    862,500                              306   \n",
       "\n",
       "  Days on market (avg.) Homes sold in 2018 (#) Condo sales (%)  \\\n",
       "0                    31                     81              0%   \n",
       "1                    28                    132             13%   \n",
       "2                    89                     10              0%   \n",
       "3                    26                     79              5%   \n",
       "4                    49                     20              0%   \n",
       "\n",
       "  1-year median price change (2017–2018) (%)  \\\n",
       "0                                         8%   \n",
       "1                                         1%   \n",
       "2                                        -7%   \n",
       "3                                        11%   \n",
       "4                                        -6%   \n",
       "\n",
       "  5-year median price change (2014–2018) (%) Distressed property sales (%)  \\\n",
       "0                                        26%                            1%   \n",
       "1                                        33%                            0%   \n",
       "2                                        34%                           10%   \n",
       "3                                        52%                            0%   \n",
       "4                                         9%                            0%   \n",
       "\n",
       "   ... Commute by public transit (%) Commute by bike (%)  \\\n",
       "0  ...                           8.8                 3.9   \n",
       "1  ...                          14.2                 3.6   \n",
       "2  ...                           9.3                 0.4   \n",
       "3  ...                           8.6                15.8   \n",
       "4  ...                             6                10.6   \n",
       "\n",
       "  Commute by walking (%) Commute by biking and walking (%)  \\\n",
       "0                     11                              14.9   \n",
       "1                   11.9                              15.6   \n",
       "2                    7.3                               7.7   \n",
       "3                    0.3                              16.1   \n",
       "4                    4.1                              14.8   \n",
       "\n",
       "  Number of Max/streetcar/tram lines Number of TriMet bus lines  \\\n",
       "0                                  0                          3   \n",
       "1                                  1                          4   \n",
       "2                                  1                          5   \n",
       "3                                  0                          5   \n",
       "4                                  2                          4   \n",
       "\n",
       "  Number of transit lines (bus/MAX/streetcar/tram)  \\\n",
       "0                                                3   \n",
       "1                                                5   \n",
       "2                                                6   \n",
       "3                                                5   \n",
       "4                                                6   \n",
       "\n",
       "  Miles of bike routes (lanes, boulevards, multiuse paths)  \\\n",
       "0                                                  1         \n",
       "1                                                  6         \n",
       "2                                                  3         \n",
       "3                                                  6         \n",
       "4                                                  1         \n",
       "\n",
       "  Miles of bike routes (all) per square mile Walk score  \n",
       "0                                        1.2         65  \n",
       "1                                        7.2         72  \n",
       "2                                        7.8         54  \n",
       "3                                        2.9         45  \n",
       "4                                        1.6         40  \n",
       "\n",
       "[5 rows x 57 columns]"
      ]
     },
     "execution_count": 147,
     "metadata": {},
     "output_type": "execute_result"
    }
   ],
   "source": [
    "pdx_hood_df.drop(pdx_hood_df.index[95], inplace=True)\n",
    "print(pdx_hood_df.shape)\n",
    "\n",
    "pdx_hood_df.head()"
   ]
  },
  {
   "cell_type": "markdown",
   "metadata": {},
   "source": [
    "Now we have three dataframes with pertinent data for the project, we now need to combine the dataframes in a meaningful way with the data we want to keep"
   ]
  },
  {
   "cell_type": "code",
   "execution_count": 148,
   "metadata": {},
   "outputs": [
    {
     "name": "stdout",
     "output_type": "stream",
     "text": [
      "the geo file contains 98 neighborhoods \n",
      "the permit file contains 105 neighborhoods \n",
      "the neighborhood df contains 95 neighborhoods\n"
     ]
    }
   ],
   "source": [
    "#check the nieghborhood number in each df\n",
    "print(\"the geo file contains {} neighborhoods \\nthe permit file contains {} neighborhoods \\nthe neighborhood df contains {} neighborhoods\".format(len(pdx_geo['features']),len(permits_df.NBRHOOD.unique()),len(pdx_hood_df['Neighborhood'])))"
   ]
  },
  {
   "cell_type": "markdown",
   "metadata": {},
   "source": [
    "looks like we need to reconcile these differences before moving forward. We will start with the permit file and compare it to the geofile"
   ]
  },
  {
   "cell_type": "code",
   "execution_count": 149,
   "metadata": {},
   "outputs": [],
   "source": [
    "geo_hoods = [pdx_geo['features'][i]['properties']['MAPLABEL'].lower() for i in range(len(pdx_geo['features']))]\n",
    "permit_hoods = [i.lower() for i in permits_df.NBRHOOD.unique()]"
   ]
  },
  {
   "cell_type": "code",
   "execution_count": 150,
   "metadata": {},
   "outputs": [
    {
     "data": {
      "text/plain": [
       "{'alameda/beaumont-wilshire',\n",
       " 'alameda/irvington community assn.',\n",
       " 'ardenwald-johnson creek/woodstock',\n",
       " 'boise/eliot',\n",
       " 'bridlemile/southwest hills residential league',\n",
       " 'centennial community assn./pleasant valley',\n",
       " 'eastmoreland/reed',\n",
       " 'goose hollow foothills league/southwest hills residential league',\n",
       " 'grant park/hollywood',\n",
       " 'healy heights/southwest hills residential league',\n",
       " 'hillside/northwest district assn.',\n",
       " 'lents/powellhurst-gilbert',\n",
       " 'pleasant valley/powellhurst-gilbert',\n",
       " 'sylvan-highlands/southwest hills residential league'}"
      ]
     },
     "execution_count": 150,
     "metadata": {},
     "output_type": "execute_result"
    }
   ],
   "source": [
    "#here we will use built in python 'difference' function for the 'set' datatype\n",
    "set(permit_hoods).difference(set(geo_hoods))"
   ]
  },
  {
   "cell_type": "code",
   "execution_count": 151,
   "metadata": {},
   "outputs": [
    {
     "data": {
      "text/plain": [
       "{'healy heights',\n",
       " 'mc unclaimed #11',\n",
       " 'mc unclaimed #13',\n",
       " 'mc unclaimed #14',\n",
       " 'mc unclaimed #5',\n",
       " 'sunderland association of neighbors',\n",
       " 'woodland park'}"
      ]
     },
     "execution_count": 151,
     "metadata": {},
     "output_type": "execute_result"
    }
   ],
   "source": [
    "set(geo_hoods).difference(set(permit_hoods))"
   ]
  },
  {
   "cell_type": "markdown",
   "metadata": {},
   "source": [
    "We see that some permits are in neighborhoods that may over lap, however, we want to compare uniqueness, so we can separate each neighborhood to see if it produces a unique entry"
   ]
  },
  {
   "cell_type": "code",
   "execution_count": 152,
   "metadata": {},
   "outputs": [],
   "source": [
    "ph_0 = [i.split('/')[0] for i in permit_hoods if '/' in i]\n",
    "ph_1 = [i.split('/')[1] for i in permit_hoods if '/' in i]\n"
   ]
  },
  {
   "cell_type": "code",
   "execution_count": 153,
   "metadata": {},
   "outputs": [
    {
     "data": {
      "text/plain": [
       "['pleasant valley',\n",
       " 'hillside',\n",
       " 'bridlemile',\n",
       " 'healy heights',\n",
       " 'lents',\n",
       " 'alameda',\n",
       " 'sylvan-highlands',\n",
       " 'eastmoreland',\n",
       " 'ardenwald-johnson creek',\n",
       " 'boise',\n",
       " 'goose hollow foothills league',\n",
       " 'grant park',\n",
       " 'alameda',\n",
       " 'centennial community assn.',\n",
       " 'powellhurst-gilbert',\n",
       " 'northwest district assn.',\n",
       " 'southwest hills residential league',\n",
       " 'southwest hills residential league',\n",
       " 'powellhurst-gilbert',\n",
       " 'beaumont-wilshire',\n",
       " 'southwest hills residential league',\n",
       " 'reed',\n",
       " 'woodstock',\n",
       " 'eliot',\n",
       " 'southwest hills residential league',\n",
       " 'hollywood',\n",
       " 'irvington community assn.',\n",
       " 'pleasant valley']"
      ]
     },
     "execution_count": 153,
     "metadata": {},
     "output_type": "execute_result"
    }
   ],
   "source": [
    "permit_sep"
   ]
  },
  {
   "cell_type": "code",
   "execution_count": 154,
   "metadata": {},
   "outputs": [
    {
     "data": {
      "text/plain": [
       "{'centennial community assn.',\n",
       " 'healy heights',\n",
       " 'irvington community assn.',\n",
       " 'northwest district assn.'}"
      ]
     },
     "execution_count": 154,
     "metadata": {},
     "output_type": "execute_result"
    }
   ],
   "source": [
    "permit_sep = ph_0+ph_1\n",
    "set(permit_sep).difference(set(permit_hoods))"
   ]
  },
  {
   "cell_type": "code",
   "execution_count": 155,
   "metadata": {},
   "outputs": [
    {
     "data": {
      "text/plain": [
       "'goose hollow foothills league'"
      ]
     },
     "execution_count": 155,
     "metadata": {},
     "output_type": "execute_result"
    }
   ],
   "source": [
    "permit_hoods[21]"
   ]
  },
  {
   "cell_type": "code",
   "execution_count": 156,
   "metadata": {},
   "outputs": [
    {
     "data": {
      "text/plain": [
       "False"
      ]
     },
     "execution_count": 156,
     "metadata": {},
     "output_type": "execute_result"
    }
   ],
   "source": [
    "'healy hieghts' in permit_hoods"
   ]
  },
  {
   "cell_type": "markdown",
   "metadata": {},
   "source": [
    "We can see here that we have decisions to make on how we will merge the data.\n",
    "Current Issues:\n",
    " 1. the geo file contains unclaimed areas\n",
    " 2. the permit file has combined neighborhoods\n",
    " 3. the neighborhood file has fewer neighborhoods than the others <br><br>\n",
    "Chosen Solution:\n",
    "     - drop unclaimed neighborhoods from geo_file\n",
    "     - keep first entry from permits\n",
    "     - filter overall neighborhoods by neighborhood file (for completeness)<br><br>\n",
    "Note: Its ok that the permit file is missing data, afterall it is not a requirement for new housing to go up in a certain area"
   ]
  },
  {
   "cell_type": "markdown",
   "metadata": {},
   "source": [
    "The differences between the neighborhood file and geo_file need to be examined"
   ]
  },
  {
   "cell_type": "code",
   "execution_count": 157,
   "metadata": {},
   "outputs": [],
   "source": [
    "n_hoods = [i.lower() for i in pdx_hood_df['Neighborhood']]"
   ]
  },
  {
   "cell_type": "code",
   "execution_count": 158,
   "metadata": {},
   "outputs": [
    {
     "data": {
      "text/plain": [
       "{'argay terrace',\n",
       " 'brentwood-darlington',\n",
       " 'brooklyn action corps',\n",
       " 'buckman community association',\n",
       " 'centennial community association',\n",
       " 'cully association of neighbors',\n",
       " 'goose hollow foothills league',\n",
       " 'hayden island neighborhood network',\n",
       " 'hosford-abernethy neighborhood district assn.',\n",
       " 'irvington community association',\n",
       " 'lloyd district community association',\n",
       " 'mc unclaimed #11',\n",
       " 'mc unclaimed #13',\n",
       " 'mc unclaimed #14',\n",
       " 'mc unclaimed #5',\n",
       " 'mt. scott-arleta',\n",
       " 'mt. tabor',\n",
       " 'northwest district association',\n",
       " 'old town community association',\n",
       " 'parkrose heights association of neighbors',\n",
       " 'pearl district',\n",
       " 'portland downtown',\n",
       " 'sabin community association',\n",
       " 'sellwood-moreland improvement league',\n",
       " 'southwest hills residential league',\n",
       " 'sumner association of neighbors',\n",
       " 'sunderland association of neighbors',\n",
       " 'wilkes community group'}"
      ]
     },
     "execution_count": 158,
     "metadata": {},
     "output_type": "execute_result"
    }
   ],
   "source": [
    "set(geo_hoods).difference(set(n_hoods))"
   ]
  },
  {
   "cell_type": "code",
   "execution_count": 159,
   "metadata": {},
   "outputs": [
    {
     "data": {
      "text/plain": [
       "{'argay',\n",
       " 'brentwood/ darlington',\n",
       " 'brooklyn',\n",
       " 'buckman',\n",
       " 'centennial',\n",
       " 'cully',\n",
       " 'downtown',\n",
       " 'dunthorpe',\n",
       " 'goose hollow',\n",
       " 'hayden island',\n",
       " 'hosford-abernethy',\n",
       " 'irvington',\n",
       " 'lloyd district',\n",
       " 'mt scott-arleta',\n",
       " 'mt tabor',\n",
       " 'northwest district',\n",
       " 'old town/ chinatown',\n",
       " 'parkrose heights',\n",
       " 'pearl',\n",
       " 'sabin',\n",
       " 'sellwood-moreland',\n",
       " 'southwest hills',\n",
       " 'sumner',\n",
       " 'sunderland',\n",
       " 'wilkes'}"
      ]
     },
     "execution_count": 159,
     "metadata": {},
     "output_type": "execute_result"
    }
   ],
   "source": [
    "set(n_hoods).difference(set(geo_hoods))"
   ]
  },
  {
   "cell_type": "markdown",
   "metadata": {},
   "source": [
    "visually, it can be reconcilled (with maps) that mc unclaimed 11 is donthrope, and 14 is northwest industrial.\n",
    "To minimize the amount of manual correction, it would be best to update the neighborhood df to the standards of the permit/geo file, then correct the other few in the geofile(donthrope, nw industrial)"
   ]
  },
  {
   "cell_type": "code",
   "execution_count": 168,
   "metadata": {},
   "outputs": [],
   "source": [
    "before = [i for i in n_hoods if i not in geo_hoods]\n",
    "after = ['argay terrace','brentwood-darlington','brooklyn action corps','buckman community association',\n",
    "         'centennial community association','cully association of neighbors','portland downtown',\n",
    "         'dunthorpe','goose hollow foothills league','hayden island neighborhood network',\n",
    "         'hosford-abernethy neighborhood district assn.','irvington community association',\n",
    "         'lloyd district community association','mt. scott-arleta','mt. tabor','northwest district association',\n",
    "         'old town community association','parkrose heights association of neighbors','pearl district',\n",
    "         'sabin community association','sellwood-moreland improvement league','southwest hills residential league',\n",
    "         'sumner association of neighbors','sunderland association of neighbors', 'wilkes community group']\n",
    "replace_d = {k:v for k,v, in zip(before,after)}"
   ]
  },
  {
   "cell_type": "code",
   "execution_count": 169,
   "metadata": {},
   "outputs": [
    {
     "data": {
      "text/plain": [
       "{'argay': 'argay terrace',\n",
       " 'brentwood/ darlington': 'brentwood-darlington',\n",
       " 'brooklyn': 'brooklyn action corps',\n",
       " 'buckman': 'buckman community association',\n",
       " 'centennial': 'centennial community association',\n",
       " 'cully': 'cully association of neighbors',\n",
       " 'downtown': 'portland downtown',\n",
       " 'dunthorpe': 'dunthorpe',\n",
       " 'goose hollow': 'goose hollow foothills league',\n",
       " 'hayden island': 'hayden island neighborhood network',\n",
       " 'hosford-abernethy': 'hosford-abernethy neighborhood district assn.',\n",
       " 'irvington': 'irvington community association',\n",
       " 'lloyd district': 'lloyd district community association',\n",
       " 'mt scott-arleta': 'mt. scott-arleta',\n",
       " 'mt tabor': 'mt. tabor',\n",
       " 'northwest district': 'northwest district association',\n",
       " 'old town/ chinatown': 'old town community association',\n",
       " 'parkrose heights': 'parkrose heights association of neighbors',\n",
       " 'pearl': 'pearl district',\n",
       " 'sabin': 'sabin community association',\n",
       " 'sellwood-moreland': 'sellwood-moreland improvement league',\n",
       " 'southwest hills': 'southwest hills residential league',\n",
       " 'sumner': 'sumner association of neighbors',\n",
       " 'sunderland': 'sunderland association of neighbors',\n",
       " 'wilkes': 'wilkes community group'}"
      ]
     },
     "execution_count": 169,
     "metadata": {},
     "output_type": "execute_result"
    }
   ],
   "source": [
    "replace_d"
   ]
  },
  {
   "cell_type": "code",
   "execution_count": 177,
   "metadata": {},
   "outputs": [],
   "source": [
    "#the replace dictionary looks good lets update the names\n",
    "old_names = [i.lower() for i in pdx_hood_df['Neighborhood']]\n",
    "new_names = [replace_d[i].upper() if i in replace_d.keys() else i.upper() for i in old_names]\n"
   ]
  },
  {
   "cell_type": "code",
   "execution_count": 178,
   "metadata": {},
   "outputs": [
    {
     "data": {
      "text/plain": [
       "['ALAMEDA',\n",
       " 'ARBOR LODGE',\n",
       " 'ARDENWALD-JOHNSON CREEK',\n",
       " 'ARGAY TERRACE',\n",
       " 'ARLINGTON HEIGHTS',\n",
       " 'ARNOLD CREEK',\n",
       " 'ASHCREEK',\n",
       " 'BEAUMONT-WILSHIRE',\n",
       " 'BOISE',\n",
       " 'BRENTWOOD-DARLINGTON']"
      ]
     },
     "execution_count": 178,
     "metadata": {},
     "output_type": "execute_result"
    }
   ],
   "source": [
    "new_names[:10]"
   ]
  },
  {
   "cell_type": "code",
   "execution_count": 180,
   "metadata": {},
   "outputs": [],
   "source": [
    "#set neighborhood column back in df\n",
    "pdx_hood_df['Neighborhood'] = new_names"
   ]
  },
  {
   "cell_type": "code",
   "execution_count": 182,
   "metadata": {},
   "outputs": [
    {
     "data": {
      "text/html": [
       "<div>\n",
       "<style scoped>\n",
       "    .dataframe tbody tr th:only-of-type {\n",
       "        vertical-align: middle;\n",
       "    }\n",
       "\n",
       "    .dataframe tbody tr th {\n",
       "        vertical-align: top;\n",
       "    }\n",
       "\n",
       "    .dataframe thead th {\n",
       "        text-align: right;\n",
       "    }\n",
       "</style>\n",
       "<table border=\"1\" class=\"dataframe\">\n",
       "  <thead>\n",
       "    <tr style=\"text-align: right;\">\n",
       "      <th></th>\n",
       "      <th>Neighborhood</th>\n",
       "      <th>Average home sale price ($)</th>\n",
       "      <th>Median home sale price ($)</th>\n",
       "      <th>Average cost per square foot ($)</th>\n",
       "      <th>Days on market (avg.)</th>\n",
       "      <th>Homes sold in 2018 (#)</th>\n",
       "      <th>Condo sales (%)</th>\n",
       "      <th>1-year median price change (2017–2018) (%)</th>\n",
       "      <th>5-year median price change (2014–2018) (%)</th>\n",
       "      <th>Distressed property sales (%)</th>\n",
       "      <th>...</th>\n",
       "      <th>Commute by public transit (%)</th>\n",
       "      <th>Commute by bike (%)</th>\n",
       "      <th>Commute by walking (%)</th>\n",
       "      <th>Commute by biking and walking (%)</th>\n",
       "      <th>Number of Max/streetcar/tram lines</th>\n",
       "      <th>Number of TriMet bus lines</th>\n",
       "      <th>Number of transit lines (bus/MAX/streetcar/tram)</th>\n",
       "      <th>Miles of bike routes (lanes, boulevards, multiuse paths)</th>\n",
       "      <th>Miles of bike routes (all) per square mile</th>\n",
       "      <th>Walk score</th>\n",
       "    </tr>\n",
       "  </thead>\n",
       "  <tbody>\n",
       "    <tr>\n",
       "      <th>0</th>\n",
       "      <td>ALAMEDA</td>\n",
       "      <td>785,713</td>\n",
       "      <td>738,000</td>\n",
       "      <td>268</td>\n",
       "      <td>31</td>\n",
       "      <td>81</td>\n",
       "      <td>0%</td>\n",
       "      <td>8%</td>\n",
       "      <td>26%</td>\n",
       "      <td>1%</td>\n",
       "      <td>...</td>\n",
       "      <td>8.8</td>\n",
       "      <td>3.9</td>\n",
       "      <td>11</td>\n",
       "      <td>14.9</td>\n",
       "      <td>0</td>\n",
       "      <td>3</td>\n",
       "      <td>3</td>\n",
       "      <td>1</td>\n",
       "      <td>1.2</td>\n",
       "      <td>65</td>\n",
       "    </tr>\n",
       "    <tr>\n",
       "      <th>1</th>\n",
       "      <td>ARBOR LODGE</td>\n",
       "      <td>465,743</td>\n",
       "      <td>459,450</td>\n",
       "      <td>252</td>\n",
       "      <td>28</td>\n",
       "      <td>132</td>\n",
       "      <td>13%</td>\n",
       "      <td>1%</td>\n",
       "      <td>33%</td>\n",
       "      <td>0%</td>\n",
       "      <td>...</td>\n",
       "      <td>14.2</td>\n",
       "      <td>3.6</td>\n",
       "      <td>11.9</td>\n",
       "      <td>15.6</td>\n",
       "      <td>1</td>\n",
       "      <td>4</td>\n",
       "      <td>5</td>\n",
       "      <td>6</td>\n",
       "      <td>7.2</td>\n",
       "      <td>72</td>\n",
       "    </tr>\n",
       "    <tr>\n",
       "      <th>2</th>\n",
       "      <td>ARDENWALD-JOHNSON CREEK</td>\n",
       "      <td>418,640</td>\n",
       "      <td>434,500</td>\n",
       "      <td>185</td>\n",
       "      <td>89</td>\n",
       "      <td>10</td>\n",
       "      <td>0%</td>\n",
       "      <td>-7%</td>\n",
       "      <td>34%</td>\n",
       "      <td>10%</td>\n",
       "      <td>...</td>\n",
       "      <td>9.3</td>\n",
       "      <td>0.4</td>\n",
       "      <td>7.3</td>\n",
       "      <td>7.7</td>\n",
       "      <td>1</td>\n",
       "      <td>5</td>\n",
       "      <td>6</td>\n",
       "      <td>3</td>\n",
       "      <td>7.8</td>\n",
       "      <td>54</td>\n",
       "    </tr>\n",
       "    <tr>\n",
       "      <th>3</th>\n",
       "      <td>ARGAY TERRACE</td>\n",
       "      <td>391,146</td>\n",
       "      <td>399,750</td>\n",
       "      <td>168</td>\n",
       "      <td>26</td>\n",
       "      <td>79</td>\n",
       "      <td>5%</td>\n",
       "      <td>11%</td>\n",
       "      <td>52%</td>\n",
       "      <td>0%</td>\n",
       "      <td>...</td>\n",
       "      <td>8.6</td>\n",
       "      <td>15.8</td>\n",
       "      <td>0.3</td>\n",
       "      <td>16.1</td>\n",
       "      <td>0</td>\n",
       "      <td>5</td>\n",
       "      <td>5</td>\n",
       "      <td>6</td>\n",
       "      <td>2.9</td>\n",
       "      <td>45</td>\n",
       "    </tr>\n",
       "    <tr>\n",
       "      <th>4</th>\n",
       "      <td>ARLINGTON HEIGHTS</td>\n",
       "      <td>1,012,913</td>\n",
       "      <td>862,500</td>\n",
       "      <td>306</td>\n",
       "      <td>49</td>\n",
       "      <td>20</td>\n",
       "      <td>0%</td>\n",
       "      <td>-6%</td>\n",
       "      <td>9%</td>\n",
       "      <td>0%</td>\n",
       "      <td>...</td>\n",
       "      <td>6</td>\n",
       "      <td>10.6</td>\n",
       "      <td>4.1</td>\n",
       "      <td>14.8</td>\n",
       "      <td>2</td>\n",
       "      <td>4</td>\n",
       "      <td>6</td>\n",
       "      <td>1</td>\n",
       "      <td>1.6</td>\n",
       "      <td>40</td>\n",
       "    </tr>\n",
       "  </tbody>\n",
       "</table>\n",
       "<p>5 rows × 57 columns</p>\n",
       "</div>"
      ],
      "text/plain": [
       "              Neighborhood Average home sale price ($)  \\\n",
       "0                  ALAMEDA                     785,713   \n",
       "1              ARBOR LODGE                     465,743   \n",
       "2  ARDENWALD-JOHNSON CREEK                     418,640   \n",
       "3            ARGAY TERRACE                     391,146   \n",
       "4        ARLINGTON HEIGHTS                   1,012,913   \n",
       "\n",
       "  Median home sale price ($) Average cost per square foot ($)  \\\n",
       "0                    738,000                              268   \n",
       "1                    459,450                              252   \n",
       "2                    434,500                              185   \n",
       "3                    399,750                              168   \n",
       "4                    862,500                              306   \n",
       "\n",
       "  Days on market (avg.) Homes sold in 2018 (#) Condo sales (%)  \\\n",
       "0                    31                     81              0%   \n",
       "1                    28                    132             13%   \n",
       "2                    89                     10              0%   \n",
       "3                    26                     79              5%   \n",
       "4                    49                     20              0%   \n",
       "\n",
       "  1-year median price change (2017–2018) (%)  \\\n",
       "0                                         8%   \n",
       "1                                         1%   \n",
       "2                                        -7%   \n",
       "3                                        11%   \n",
       "4                                        -6%   \n",
       "\n",
       "  5-year median price change (2014–2018) (%) Distressed property sales (%)  \\\n",
       "0                                        26%                            1%   \n",
       "1                                        33%                            0%   \n",
       "2                                        34%                           10%   \n",
       "3                                        52%                            0%   \n",
       "4                                         9%                            0%   \n",
       "\n",
       "   ... Commute by public transit (%) Commute by bike (%)  \\\n",
       "0  ...                           8.8                 3.9   \n",
       "1  ...                          14.2                 3.6   \n",
       "2  ...                           9.3                 0.4   \n",
       "3  ...                           8.6                15.8   \n",
       "4  ...                             6                10.6   \n",
       "\n",
       "  Commute by walking (%) Commute by biking and walking (%)  \\\n",
       "0                     11                              14.9   \n",
       "1                   11.9                              15.6   \n",
       "2                    7.3                               7.7   \n",
       "3                    0.3                              16.1   \n",
       "4                    4.1                              14.8   \n",
       "\n",
       "  Number of Max/streetcar/tram lines Number of TriMet bus lines  \\\n",
       "0                                  0                          3   \n",
       "1                                  1                          4   \n",
       "2                                  1                          5   \n",
       "3                                  0                          5   \n",
       "4                                  2                          4   \n",
       "\n",
       "  Number of transit lines (bus/MAX/streetcar/tram)  \\\n",
       "0                                                3   \n",
       "1                                                5   \n",
       "2                                                6   \n",
       "3                                                5   \n",
       "4                                                6   \n",
       "\n",
       "  Miles of bike routes (lanes, boulevards, multiuse paths)  \\\n",
       "0                                                  1         \n",
       "1                                                  6         \n",
       "2                                                  3         \n",
       "3                                                  6         \n",
       "4                                                  1         \n",
       "\n",
       "  Miles of bike routes (all) per square mile Walk score  \n",
       "0                                        1.2         65  \n",
       "1                                        7.2         72  \n",
       "2                                        7.8         54  \n",
       "3                                        2.9         45  \n",
       "4                                        1.6         40  \n",
       "\n",
       "[5 rows x 57 columns]"
      ]
     },
     "execution_count": 182,
     "metadata": {},
     "output_type": "execute_result"
    }
   ],
   "source": [
    "pdx_hood_df.to_csv('pdx_hoods.csv',index=False)\n",
    "pdx_hood_df.head()\n"
   ]
  },
  {
   "cell_type": "markdown",
   "metadata": {},
   "source": [
    "Now lets cleanup the permits neighborhood column"
   ]
  },
  {
   "cell_type": "code",
   "execution_count": 183,
   "metadata": {},
   "outputs": [],
   "source": [
    "comb_list = [i.split('/')[0] if '/' in i else i for i in permits_df.NBRHOOD ]"
   ]
  },
  {
   "cell_type": "code",
   "execution_count": 187,
   "metadata": {},
   "outputs": [],
   "source": [
    "permits_df['NBRHOOD'] = comb_list"
   ]
  },
  {
   "cell_type": "code",
   "execution_count": 199,
   "metadata": {},
   "outputs": [],
   "source": [
    "#Lets get the stat from the permits df that we want\n",
    "p_grouped =permits_df.groupby('NBRHOOD')['NEW_UNITS'].sum().reset_index()\n",
    "p_grouped.columns=['Neighborhood', 'New Units']"
   ]
  },
  {
   "cell_type": "code",
   "execution_count": 203,
   "metadata": {},
   "outputs": [
    {
     "data": {
      "text/plain": [
       "Neighborhood    object\n",
       "New Units        int64\n",
       "dtype: object"
      ]
     },
     "execution_count": 203,
     "metadata": {},
     "output_type": "execute_result"
    }
   ],
   "source": [
    "p_grouped.dtypes"
   ]
  },
  {
   "cell_type": "code",
   "execution_count": 224,
   "metadata": {},
   "outputs": [],
   "source": [
    "new_units = []\n",
    "for i in pdx_hood_df['Neighborhood']:\n",
    "    if i in list(p_grouped['Neighborhood']):\n",
    "        new_units.append(int(p_grouped[p_grouped['Neighborhood']==i]['New Units']))\n",
    "    else:\n",
    "        new_units.append(0)"
   ]
  },
  {
   "cell_type": "code",
   "execution_count": 225,
   "metadata": {},
   "outputs": [
    {
     "data": {
      "text/plain": [
       "[30,\n",
       " 443,\n",
       " 10,\n",
       " 58,\n",
       " 1,\n",
       " 28,\n",
       " 26,\n",
       " 105,\n",
       " 680,\n",
       " 151,\n",
       " 332,\n",
       " 22,\n",
       " 173,\n",
       " 1528,\n",
       " 146,\n",
       " 69,\n",
       " 9,\n",
       " 227,\n",
       " 323,\n",
       " 9,\n",
       " 299,\n",
       " 1473,\n",
       " 0,\n",
       " 2,\n",
       " 42,\n",
       " 628,\n",
       " 13,\n",
       " 24,\n",
       " 135,\n",
       " 65,\n",
       " 853,\n",
       " 17,\n",
       " 3,\n",
       " 17,\n",
       " 1100,\n",
       " 1,\n",
       " 55,\n",
       " 7,\n",
       " 169,\n",
       " 24,\n",
       " 257,\n",
       " 304,\n",
       " 12,\n",
       " 430,\n",
       " 1441,\n",
       " 356,\n",
       " 14,\n",
       " 461,\n",
       " 4,\n",
       " 240,\n",
       " 31,\n",
       " 17,\n",
       " 12,\n",
       " 7,\n",
       " 39,\n",
       " 205,\n",
       " 216,\n",
       " 206,\n",
       " 195,\n",
       " 118,\n",
       " 2100,\n",
       " 16,\n",
       " 208,\n",
       " 882,\n",
       " 34,\n",
       " 18,\n",
       " 1403,\n",
       " 160,\n",
       " 230,\n",
       " 90,\n",
       " 182,\n",
       " 13,\n",
       " 705,\n",
       " 238,\n",
       " 35,\n",
       " 1,\n",
       " 47,\n",
       " 1000,\n",
       " 16,\n",
       " 509,\n",
       " 133,\n",
       " 164,\n",
       " 344,\n",
       " 402,\n",
       " 3,\n",
       " 0,\n",
       " 203,\n",
       " 286,\n",
       " 249,\n",
       " 178,\n",
       " 24,\n",
       " 28,\n",
       " 0,\n",
       " 277,\n",
       " 223]"
      ]
     },
     "execution_count": 225,
     "metadata": {},
     "output_type": "execute_result"
    }
   ],
   "source": [
    "new_units"
   ]
  },
  {
   "cell_type": "code",
   "execution_count": 23,
   "metadata": {},
   "outputs": [
    {
     "name": "stdout",
     "output_type": "stream",
     "text": [
      "The geograpical coordinate of Portland, OR are 45.5202471, -122.6741949.\n"
     ]
    }
   ],
   "source": [
    "#get geocoords for portland\n",
    "address = \"Portland, OR\"\n",
    "\n",
    "geolocator = Nominatim(user_agent=\"extra_lime\")\n",
    "location = geolocator.geocode(address)\n",
    "latitude = location.latitude\n",
    "longitude = location.longitude\n",
    "print('The geograpical coordinate of Portland, OR are {}, {}.'.format(latitude, longitude))"
   ]
  },
  {
   "cell_type": "markdown",
   "metadata": {},
   "source": [
    "Lets Create a map to show the neighborhoods"
   ]
  },
  {
   "cell_type": "code",
   "execution_count": null,
   "metadata": {},
   "outputs": [],
   "source": [
    "# let Folium determine the scale.\n",
    "pdx_map = folium.Map(location=[latitude, longitude], zoom_start=12)\n",
    "sf_map.choropleth(\n",
    "    geo_data=pdx_geo,\n",
    "    data=hoods,\n",
    "    columns=['PdDistrict', 'IncidntNum'],\n",
    "    key_on='feature.properties.DISTRICT',\n",
    "    fill_color='YlOrRd', \n",
    "    fill_opacity=0.7, \n",
    "    line_opacity=0.2,\n",
    "    legend_name='Crime Rate in San Francisco',\n",
    "    reset=True\n",
    ")\n",
    "sf_map"
   ]
  },
  {
   "cell_type": "code",
   "execution_count": 14,
   "metadata": {},
   "outputs": [],
   "source": [
    "#first lets create a dataframe with basic information about each neighborhood\n",
    "pdx_df = pd.DataFrame"
   ]
  }
 ],
 "metadata": {
  "kernelspec": {
   "display_name": "Python 3",
   "language": "python",
   "name": "python3"
  },
  "language_info": {
   "codemirror_mode": {
    "name": "ipython",
    "version": 3
   },
   "file_extension": ".py",
   "mimetype": "text/x-python",
   "name": "python",
   "nbconvert_exporter": "python",
   "pygments_lexer": "ipython3",
   "version": "3.6.9"
  }
 },
 "nbformat": 4,
 "nbformat_minor": 2
}
